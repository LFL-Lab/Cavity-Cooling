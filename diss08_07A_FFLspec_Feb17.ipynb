{
 "cells": [
  {
   "cell_type": "code",
   "execution_count": 2,
   "metadata": {},
   "outputs": [],
   "source": [
    "import h5py\n",
    "import numpy as np\n",
    "import matplotlib.pyplot as plt\n",
    "from fitTools.Resonator import Resonator"
   ]
  },
  {
   "cell_type": "code",
   "execution_count": 3,
   "metadata": {},
   "outputs": [],
   "source": [
    "# estimate dissipator frequency based on Jocelyn's fit\n",
    "def estimate_diss_freq(current, fmax = 11.07, d = 0.07):\n",
    "    current_period = 736\n",
    "    current_offset = -163\n",
    "    phi = current/current_period\n",
    "    phi_offset = current_offset/current_period*np.pi\n",
    "    flux_dep = np.emath.power(abs(np.cos(np.pi*phi-phi_offset)),2) + d**2*np.emath.power(abs(np.sin(np.pi*phi-phi_offset)),2)\n",
    "    f_diss = fmax * np.emath.power(flux_dep, 1/4)\n",
    "    return f_diss"
   ]
  },
  {
   "cell_type": "code",
   "execution_count": 5,
   "metadata": {},
   "outputs": [
    {
     "data": {
      "text/plain": [
       "5.845464831673708"
      ]
     },
     "execution_count": 5,
     "metadata": {},
     "output_type": "execute_result"
    }
   ],
   "source": [
    "# frequency shift from -180 uA to -100 uA\n",
    "estimate_diss_freq(-70, fmax=12.0) - 5.681"
   ]
  },
  {
   "attachments": {},
   "cell_type": "markdown",
   "metadata": {},
   "source": [
    "# direct two tone\n",
    "which feature corresponds to the dissipator?"
   ]
  },
  {
   "cell_type": "code",
   "execution_count": null,
   "metadata": {},
   "outputs": [],
   "source": []
  },
  {
   "attachments": {},
   "cell_type": "markdown",
   "metadata": {},
   "source": [
    "# FFL spec"
   ]
  },
  {
   "attachments": {},
   "cell_type": "markdown",
   "metadata": {},
   "source": [
    "# Internal Q power sweeps \n"
   ]
  },
  {
   "cell_type": "markdown",
   "metadata": {},
   "source": []
  }
 ],
 "metadata": {
  "kernelspec": {
   "display_name": "opx-env2",
   "language": "python",
   "name": "python3"
  },
  "language_info": {
   "codemirror_mode": {
    "name": "ipython",
    "version": 3
   },
   "file_extension": ".py",
   "mimetype": "text/x-python",
   "name": "python",
   "nbconvert_exporter": "python",
   "pygments_lexer": "ipython3",
   "version": "3.8.13"
  },
  "orig_nbformat": 4,
  "vscode": {
   "interpreter": {
    "hash": "c747b350173dff0d7d3fc42df41f769e51674a655b830670b9a7c5443b0f5138"
   }
  }
 },
 "nbformat": 4,
 "nbformat_minor": 2
}
