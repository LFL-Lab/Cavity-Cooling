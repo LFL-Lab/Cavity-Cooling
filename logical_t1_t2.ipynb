{
 "cells": [
  {
   "cell_type": "code",
   "execution_count": 2,
   "metadata": {},
   "outputs": [],
   "source": [
    "import h5py\n",
    "import matplotlib.pyplot as plt\n",
    "import numpy as np\n",
    "import scipy\n",
    "from fitTools import AnalysisFunctions as af"
   ]
  },
  {
   "attachments": {},
   "cell_type": "markdown",
   "metadata": {},
   "source": [
    "# logical t2"
   ]
  },
  {
   "cell_type": "code",
   "execution_count": 3,
   "metadata": {},
   "outputs": [
    {
     "name": "stdout",
     "output_type": "stream",
     "text": [
      "<KeysViewHDF5 ['sweep_ffl_amp_19:31:47']>\n",
      "sweep_ffl_amp_19:31:47\n"
     ]
    }
   ],
   "source": [
    "dataDir = 'G:\\\\Shared drives\\\\CavityCooling\\\\data\\\\diss08_07A\\\\20230317\\\\T2wFFL'\n",
    "filename = 'T2wFFL_fflFreq=6d6GHz_DA=24dB_navg=5000_9.h5'\n",
    "f =  h5py.File(f'{dataDir}\\\\{filename}', 'r') \n",
    "print(f.keys())\n",
    "key = list(f.keys())[0]\n",
    "print(key)\n"
   ]
  },
  {
   "cell_type": "code",
   "execution_count": 4,
   "metadata": {},
   "outputs": [
    {
     "data": {
      "text/plain": [
       "101"
      ]
     },
     "execution_count": 4,
     "metadata": {},
     "output_type": "execute_result"
    }
   ],
   "source": [
    "num_of_entries = len(f[key].keys())\n",
    "num_of_entries"
   ]
  },
  {
   "cell_type": "code",
   "execution_count": null,
   "metadata": {},
   "outputs": [],
   "source": [
    "def get_cmap(n, name='hsv'):\n",
    "    '''Returns a function that maps each index in 0, 1, ..., n-1 to a distinct \n",
    "    RGB color; the keyword argument name must be a standard mpl colormap name.'''\n",
    "    return plt.cm.get_cmap(name, n)\n",
    "\n",
    "def decay(x,amp,tau,offset):\n",
    "    return amp*np.exp(-x/tau)+offset"
   ]
  },
  {
   "cell_type": "code",
   "execution_count": null,
   "metadata": {},
   "outputs": [],
   "source": [
    "mag_array =[]\n",
    "time_array = []\n",
    "t2 = np.zeros((num_of_entries, ))\n",
    "t2_err = np.zeros((num_of_entries, ))\n",
    "\n",
    "for i in range(num_of_entries):\n",
    "    entry0 = list(f[key].keys())[i]\n",
    "    time = np.array(f[key][entry0]['t'])\n",
    "    data = np.array(f[key][entry0]['I']) + 1j * np.array(f[key][entry0]['Q'])\n",
    "    mag = abs(data) * 1e3\n",
    "    mag_array.append(mag)\n",
    "    time_array.append(time)\n",
    "    tau = 0.2\n",
    "    amp = abs(mag[0] - mag[-1])\n",
    "    offset = 0\n",
    "\n",
    "    p0 = [amp,tau,offset]\n",
    "    fitFunction = decay\n",
    "    fitted_pars, covar = scipy.optimize.curve_fit(fitFunction, time, mag,p0=p0,method='trf',xtol=1e-12,maxfev=40e3)\n",
    "    error = np.sqrt(abs(np.diag(covar)))\n",
    "    t1[i] = fitted_pars[1]\n",
    "    t1_err[i] = error[1]\n",
    "    if time[-1] > 1.75:\n",
    "        cut = np.argmin(abs(time - 1.75))\n",
    "        time = time[:cut]\n",
    "        mag = mag[:cut]\n",
    "    # \n",
    "    plt.plot(time, mag ,'x',color = cmap[i])\n",
    "    if i is not 5:\n",
    "        label='drive amp='+entry0.split(' = ')[1] + ', '\n",
    "    else:\n",
    "        label = 'drive off, '\n",
    "    plt.plot(time, decay(time,fitted_pars[0], fitted_pars[1], fitted_pars[2]),'-',color =cmap[i],label=label+r'$\\tau$'+'={%d}'%(fitted_pars[1]*1e3)+r'$\\pm$'+'{%d} ns'%(t1_err[i]*1e3))"
   ]
  },
  {
   "attachments": {},
   "cell_type": "markdown",
   "metadata": {},
   "source": [
    "# logical t1"
   ]
  },
  {
   "cell_type": "markdown",
   "metadata": {},
   "source": []
  }
 ],
 "metadata": {
  "kernelspec": {
   "display_name": "opx-env2",
   "language": "python",
   "name": "python3"
  },
  "language_info": {
   "codemirror_mode": {
    "name": "ipython",
    "version": 3
   },
   "file_extension": ".py",
   "mimetype": "text/x-python",
   "name": "python",
   "nbconvert_exporter": "python",
   "pygments_lexer": "ipython3",
   "version": "3.8.13"
  },
  "orig_nbformat": 4
 },
 "nbformat": 4,
 "nbformat_minor": 2
}
