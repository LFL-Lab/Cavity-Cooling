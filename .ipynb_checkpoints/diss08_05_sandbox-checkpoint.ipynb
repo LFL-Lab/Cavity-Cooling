{
 "cells": [
  {
   "cell_type": "code",
   "execution_count": 1,
   "id": "be98d6ec",
   "metadata": {},
   "outputs": [],
   "source": [
    "import h5py\n",
    "import numpy as np\n",
    "import matplotlib.pyplot as plt\n",
    "import sys"
   ]
  },
  {
   "cell_type": "code",
   "execution_count": 2,
   "id": "a618213b",
   "metadata": {},
   "outputs": [
    {
     "ename": "NameError",
     "evalue": "name 'h5py' is not defined",
     "output_type": "error",
     "traceback": [
      "\u001b[1;31m---------------------------------------------------------------------------\u001b[0m",
      "\u001b[1;31mNameError\u001b[0m                                 Traceback (most recent call last)",
      "Cell \u001b[1;32mIn[2], line 4\u001b[0m\n\u001b[0;32m      1\u001b[0m datapath \u001b[38;5;241m=\u001b[39m \u001b[38;5;124m'\u001b[39m\u001b[38;5;124mG:\u001b[39m\u001b[38;5;130;01m\\\\\u001b[39;00m\u001b[38;5;124mShared Drives\u001b[39m\u001b[38;5;130;01m\\\\\u001b[39;00m\u001b[38;5;124mLFL\u001b[39m\u001b[38;5;130;01m\\\\\u001b[39;00m\u001b[38;5;124mLabber\u001b[39m\u001b[38;5;130;01m\\\\\u001b[39;00m\u001b[38;5;124mData\u001b[39m\u001b[38;5;130;01m\\\\\u001b[39;00m\u001b[38;5;124m2023\u001b[39m\u001b[38;5;130;01m\\\\\u001b[39;00m\u001b[38;5;124m02\u001b[39m\u001b[38;5;130;01m\\\\\u001b[39;00m\u001b[38;5;124mData_0207\u001b[39m\u001b[38;5;130;01m\\\\\u001b[39;00m\u001b[38;5;124m'\u001b[39m\n\u001b[0;32m      2\u001b[0m f_name \u001b[38;5;241m=\u001b[39m \u001b[38;5;124m'\u001b[39m\u001b[38;5;124mdiss08_05a_ffl_sweep_11.hdf5\u001b[39m\u001b[38;5;124m'\u001b[39m\n\u001b[1;32m----> 4\u001b[0m f \u001b[38;5;241m=\u001b[39m \u001b[43mh5py\u001b[49m\u001b[38;5;241m.\u001b[39mFile(datapath \u001b[38;5;241m+\u001b[39m f_name,\u001b[38;5;124m'\u001b[39m\u001b[38;5;124mr\u001b[39m\u001b[38;5;124m'\u001b[39m)\n\u001b[0;32m      6\u001b[0m \u001b[38;5;28;01mfor\u001b[39;00m key \u001b[38;5;129;01min\u001b[39;00m f\u001b[38;5;241m.\u001b[39mkeys():\n\u001b[0;32m      7\u001b[0m     \u001b[38;5;28mprint\u001b[39m(key)\n",
      "\u001b[1;31mNameError\u001b[0m: name 'h5py' is not defined"
     ]
    }
   ],
   "source": [
    "datapath = 'G:\\\\Shared Drives\\\\LFL\\\\Labber\\\\Data\\\\2023\\\\02\\\\Data_0207\\\\'\n",
    "f_name = 'diss08_05a_ffl_sweep_11.hdf5'\n",
    "f = h5py.File(datapath + f_name,'r')\n",
    "\n",
    "for key in f.keys():\n",
    "    print(key)\n",
    "    print(type(f[key]))\n",
    "print('break')\n",
    "print(f['Data']['Data'])\n",
    "for key in f['Data'].keys():\n",
    "    print(key)\n",
    "    print(type(f['Data'][key]))\n",
    "    \n",
    "s21 = f['Traces']['Agilent Network Analyzer E5071B - S21'][()]\n",
    "numsteps = f['Traces']['Agilent Network Analyzer E5071B - S21_N'][0][()]\n",
    "frange = f['Traces']['Agilent Network Analyzer E5071B - S21_t0dt'][0][()]\n",
    "\n",
    "#guess_current = np.linspace(f['Data']['Data'])\n",
    "\n",
    "freqs = np.linspace(frange[0],frange[0]+frange[1]*(numsteps-1),numsteps)\n",
    "#print(freqs)"
   ]
  },
  {
   "cell_type": "code",
   "execution_count": null,
   "id": "d748017c",
   "metadata": {},
   "outputs": [],
   "source": []
  }
 ],
 "metadata": {
  "kernelspec": {
   "display_name": "Python 3 (ipykernel)",
   "language": "python",
   "name": "python3"
  },
  "language_info": {
   "codemirror_mode": {
    "name": "ipython",
    "version": 3
   },
   "file_extension": ".py",
   "mimetype": "text/x-python",
   "name": "python",
   "nbconvert_exporter": "python",
   "pygments_lexer": "ipython3",
   "version": "3.8.13"
  },
  "toc": {
   "base_numbering": 1,
   "nav_menu": {},
   "number_sections": true,
   "sideBar": true,
   "skip_h1_title": false,
   "title_cell": "Table of Contents",
   "title_sidebar": "Contents",
   "toc_cell": false,
   "toc_position": {},
   "toc_section_display": true,
   "toc_window_display": false
  }
 },
 "nbformat": 4,
 "nbformat_minor": 5
}
