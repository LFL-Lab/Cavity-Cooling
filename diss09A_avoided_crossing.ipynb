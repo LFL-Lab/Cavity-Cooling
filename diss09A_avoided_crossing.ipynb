{
 "cells": [
  {
   "attachments": {},
   "cell_type": "markdown",
   "metadata": {},
   "source": [
    "## avoided crossing data to extract maximum dissipator frequency $\\omega_\\mathrm{max}/2\\pi$ and couping strength $g$"
   ]
  },
  {
   "cell_type": "code",
   "execution_count": 59,
   "metadata": {},
   "outputs": [],
   "source": [
    "import h5py\n",
    "import numpy as np\n"
   ]
  },
  {
   "cell_type": "code",
   "execution_count": 4,
   "metadata": {},
   "outputs": [],
   "source": [
    "# read data from Labber directory\n",
    "labber_dir = 'G:\\\\Shared drives\\\\Labber\\\\Data\\\\2023\\\\'\n",
    "date_dir = '04\\\\Data_0428\\\\'\n",
    "filename = 'diss09_5578_fluxSweep_2.hdf5'\n",
    "\n",
    "f = h5py.File(labber_dir + date_dir + filename,'r')\n"
   ]
  },
  {
   "cell_type": "code",
   "execution_count": 74,
   "metadata": {},
   "outputs": [],
   "source": [
    "s21 = f['Traces']['Agilent Network Analyzer - S21'][()]\n",
    "numsteps = f['Traces']['Agilent Network Analyzer - S21_N'][0][()]\n",
    "frange = f['Traces']['Agilent Network Analyzer - S21_t0dt'][0][()]\n",
    "freqs = np.linspace(frange[0],frange[0]+frange[1]*(numsteps-1),numsteps)\n",
    "currents = np.array(f['Data']['Data'])"
   ]
  },
  {
   "cell_type": "code",
   "execution_count": 73,
   "metadata": {},
   "outputs": [
    {
     "data": {
      "text/plain": [
       "array([5.5675e+09, 1.5625e+04])"
      ]
     },
     "execution_count": 73,
     "metadata": {},
     "output_type": "execute_result"
    }
   ],
   "source": [
    "f['Traces']['Agilent Network Analyzer - S21_t0dt'][0]"
   ]
  },
  {
   "cell_type": "code",
   "execution_count": 75,
   "metadata": {},
   "outputs": [
    {
     "data": {
      "text/plain": [
       "1601"
      ]
     },
     "execution_count": 75,
     "metadata": {},
     "output_type": "execute_result"
    }
   ],
   "source": [
    "len(freqs)"
   ]
  },
  {
   "cell_type": "code",
   "execution_count": 68,
   "metadata": {},
   "outputs": [
    {
     "data": {
      "text/plain": [
       "1601"
      ]
     },
     "execution_count": 68,
     "metadata": {},
     "output_type": "execute_result"
    }
   ],
   "source": [
    "# fit each trace for frequency\n",
    "# grab trace from s21 matrix\n",
    "index = 0\n",
    "idata = s21[:,0,index]\n",
    "qdata = s21[:.1,index]\n",
    "plt.plot\n",
    "\n",
    "\n",
    "# extract current periodicity and translate current to flux"
   ]
  },
  {
   "attachments": {},
   "cell_type": "markdown",
   "metadata": {},
   "source": [
    "### model"
   ]
  },
  {
   "cell_type": "code",
   "execution_count": 64,
   "metadata": {},
   "outputs": [],
   "source": [
    "### model"
   ]
  },
  {
   "cell_type": "code",
   "execution_count": null,
   "metadata": {},
   "outputs": [],
   "source": [
    "def avoided_crossing(x, wq_max, wc, g,phi_offset,d):\n",
    "    y = np.zeros(len(x))\n",
    "    for i in range(len(x)):\n",
    "        flux_dep = np.emath.power(abs(np.cos(np.pi*x[i]-phi_offset)),2) + d**2*np.emath.power(abs(np.sin(np.pi*x[i]-phi_offset)),2)\n",
    "        wq = wq_max*np.emath.power(flux_dep, 1/4)\n",
    "        if i<=221: #where the cropped lower curve ends in fitx\n",
    "            y[i] = 1/2*(-np.emath.sqrt(4*g**2+(wc-wq)**2) + np.emath.sqrt(4*g**2+(wc+wq)**2))\n",
    "        else:\n",
    "            y[i] = 1/2*(np.emath.sqrt(4*g**2+(wc-wq)**2) + np.emath.sqrt(4*g**2+(wc+wq)**2))\n",
    "    return y\n",
    "\n",
    "def avoided_crossing_lower(x, wq_max, wc, g,phi_offset,d):\n",
    "    flux_dep = np.emath.power(abs(np.cos(np.pi*x-phi_offset)),2) + d**2*np.emath.power(abs(np.sin(np.pi*x-phi_offset)),2)\n",
    "    wq = wq_max*np.emath.power(flux_dep, 1/4)\n",
    "    return 1/2*(-np.emath.sqrt(4*g**2+(wc-wq)**2) + np.emath.sqrt(4*g**2+(wc+wq)**2))\n",
    "\n",
    "def avoided_crossing_upper(x, wq_max, wc, g, phi_offset,d):\n",
    "    flux_dep = np.emath.power(abs(np.cos(np.pi*x-phi_offset)),2) + d**2*np.emath.power(abs(np.sin(np.pi*x-phi_offset)),2)\n",
    "    wq = wq_max*np.emath.power(flux_dep, 1/4)\n",
    "    return 1/2*(np.emath.sqrt(4*g**2+(wc-wq)**2) + np.emath.sqrt(4*g**2+(wc+wq)**2))\n",
    "def predict_disspator_frequency(x,wq_max,wc,g,phi_offset,d):\n",
    "    flux_dep = np.emath.power(abs(np.cos(np.pi*x-phi_offset)),2) + d**2*np.emath.power(abs(np.sin(np.pi*x-phi_offset)),2)\n",
    "    wq = wq_max*np.emath.power(flux_dep, 1/4)\n",
    "    return wq\n",
    "\n"
   ]
  }
 ],
 "metadata": {
  "kernelspec": {
   "display_name": "opx-env2",
   "language": "python",
   "name": "python3"
  },
  "language_info": {
   "codemirror_mode": {
    "name": "ipython",
    "version": 3
   },
   "file_extension": ".py",
   "mimetype": "text/x-python",
   "name": "python",
   "nbconvert_exporter": "python",
   "pygments_lexer": "ipython3",
   "version": "3.8.13"
  },
  "orig_nbformat": 4
 },
 "nbformat": 4,
 "nbformat_minor": 2
}
